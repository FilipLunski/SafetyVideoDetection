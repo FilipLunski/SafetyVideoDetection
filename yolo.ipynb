{
  "cells": [
    {
      "cell_type": "code",
      "source": [
        "%pip install ultralytics\n",
        "import ultralytics\n",
        "ultralytics.checks()"
      ],
      "metadata": {
        "colab": {
          "base_uri": "https://localhost:8080/"
        },
        "id": "MRwBU50uRrS2",
        "outputId": "260d26f0-e98c-47c8-ec66-8fe6433be211"
      },
      "execution_count": 1,
      "outputs": [
        {
          "output_type": "stream",
          "name": "stdout",
          "text": [
            "Ultralytics 8.3.36 🚀 Python-3.10.12 torch-2.5.1+cu121 CPU (Intel Xeon 2.20GHz)\n",
            "Setup complete ✅ (2 CPUs, 12.7 GB RAM, 32.5/107.7 GB disk)\n"
          ]
        }
      ]
    },
    {
      "cell_type": "code",
      "source": [
        "from ultralytics import YOLO"
      ],
      "metadata": {
        "id": "U69QHTNmS_Cu"
      },
      "execution_count": 2,
      "outputs": []
    },
    {
      "cell_type": "code",
      "source": [
        "\n",
        "model = YOLO(\"yolo11x-pose.pt\")"
      ],
      "metadata": {
        "colab": {
          "base_uri": "https://localhost:8080/"
        },
        "id": "nDuFaXbSS3YC",
        "outputId": "d812d9ef-559b-44db-8686-8a7495eba37d"
      },
      "execution_count": 3,
      "outputs": [
        {
          "output_type": "stream",
          "name": "stdout",
          "text": [
            "Downloading https://github.com/ultralytics/assets/releases/download/v8.3.0/yolo11x-pose.pt to 'yolo11x-pose.pt'...\n"
          ]
        },
        {
          "output_type": "stream",
          "name": "stderr",
          "text": [
            "100%|██████████| 113M/113M [00:00<00:00, 227MB/s] \n"
          ]
        }
      ]
    },
    {
      "cell_type": "code",
      "source": [
        "results = model(\"/content/people.mp4\", show=False, stream=False, save=True)"
      ],
      "metadata": {
        "colab": {
          "base_uri": "https://localhost:8080/"
        },
        "id": "otzDmeh7S9Qf",
        "outputId": "487431dd-9606-4a6b-dc37-860b8540d58a"
      },
      "execution_count": 4,
      "outputs": [
        {
          "output_type": "stream",
          "name": "stdout",
          "text": [
            "\n",
            "\n",
            "WARNING ⚠️ inference results will accumulate in RAM unless `stream=True` is passed, causing potential out-of-memory\n",
            "errors for large sources or long-running streams and videos. See https://docs.ultralytics.com/modes/predict/ for help.\n",
            "\n",
            "Example:\n",
            "    results = model(source=..., stream=True)  # generator of Results objects\n",
            "    for r in results:\n",
            "        boxes = r.boxes  # Boxes object for bbox outputs\n",
            "        masks = r.masks  # Masks object for segment masks outputs\n",
            "        probs = r.probs  # Class probabilities for classification outputs\n",
            "\n",
            "video 1/1 (frame 1/188) /content/people.mp4: 384x640 9 persons, 4259.4ms\n",
            "video 1/1 (frame 2/188) /content/people.mp4: 384x640 8 persons, 3276.4ms\n",
            "video 1/1 (frame 3/188) /content/people.mp4: 384x640 8 persons, 2443.2ms\n",
            "video 1/1 (frame 4/188) /content/people.mp4: 384x640 9 persons, 2397.2ms\n",
            "video 1/1 (frame 5/188) /content/people.mp4: 384x640 9 persons, 2399.1ms\n",
            "video 1/1 (frame 6/188) /content/people.mp4: 384x640 9 persons, 2776.9ms\n",
            "video 1/1 (frame 7/188) /content/people.mp4: 384x640 8 persons, 3163.5ms\n",
            "video 1/1 (frame 8/188) /content/people.mp4: 384x640 8 persons, 2391.7ms\n",
            "video 1/1 (frame 9/188) /content/people.mp4: 384x640 8 persons, 2383.9ms\n",
            "video 1/1 (frame 10/188) /content/people.mp4: 384x640 8 persons, 2381.0ms\n",
            "video 1/1 (frame 11/188) /content/people.mp4: 384x640 8 persons, 2994.0ms\n",
            "video 1/1 (frame 12/188) /content/people.mp4: 384x640 8 persons, 3019.9ms\n",
            "video 1/1 (frame 13/188) /content/people.mp4: 384x640 8 persons, 2376.5ms\n",
            "video 1/1 (frame 14/188) /content/people.mp4: 384x640 8 persons, 2384.0ms\n",
            "video 1/1 (frame 15/188) /content/people.mp4: 384x640 8 persons, 2401.9ms\n",
            "video 1/1 (frame 16/188) /content/people.mp4: 384x640 8 persons, 3058.2ms\n",
            "video 1/1 (frame 17/188) /content/people.mp4: 384x640 9 persons, 2805.0ms\n",
            "video 1/1 (frame 18/188) /content/people.mp4: 384x640 9 persons, 2386.5ms\n",
            "video 1/1 (frame 19/188) /content/people.mp4: 384x640 9 persons, 2370.6ms\n",
            "video 1/1 (frame 20/188) /content/people.mp4: 384x640 9 persons, 2390.7ms\n",
            "video 1/1 (frame 21/188) /content/people.mp4: 384x640 9 persons, 3237.2ms\n",
            "video 1/1 (frame 22/188) /content/people.mp4: 384x640 9 persons, 2695.4ms\n",
            "video 1/1 (frame 23/188) /content/people.mp4: 384x640 8 persons, 2381.2ms\n",
            "video 1/1 (frame 24/188) /content/people.mp4: 384x640 9 persons, 2398.3ms\n",
            "video 1/1 (frame 25/188) /content/people.mp4: 384x640 9 persons, 2376.1ms\n",
            "video 1/1 (frame 26/188) /content/people.mp4: 384x640 9 persons, 3495.4ms\n",
            "video 1/1 (frame 27/188) /content/people.mp4: 384x640 9 persons, 2746.0ms\n",
            "video 1/1 (frame 28/188) /content/people.mp4: 384x640 8 persons, 2851.3ms\n",
            "video 1/1 (frame 29/188) /content/people.mp4: 384x640 8 persons, 2369.8ms\n",
            "video 1/1 (frame 30/188) /content/people.mp4: 384x640 8 persons, 2520.8ms\n",
            "video 1/1 (frame 31/188) /content/people.mp4: 384x640 7 persons, 3365.7ms\n",
            "video 1/1 (frame 32/188) /content/people.mp4: 384x640 7 persons, 2407.8ms\n",
            "video 1/1 (frame 33/188) /content/people.mp4: 384x640 7 persons, 2408.9ms\n",
            "video 1/1 (frame 34/188) /content/people.mp4: 384x640 7 persons, 2401.6ms\n",
            "video 1/1 (frame 35/188) /content/people.mp4: 384x640 7 persons, 2709.2ms\n",
            "video 1/1 (frame 36/188) /content/people.mp4: 384x640 7 persons, 3182.5ms\n",
            "video 1/1 (frame 37/188) /content/people.mp4: 384x640 7 persons, 2359.7ms\n",
            "video 1/1 (frame 38/188) /content/people.mp4: 384x640 7 persons, 2376.2ms\n",
            "video 1/1 (frame 39/188) /content/people.mp4: 384x640 7 persons, 2374.0ms\n",
            "video 1/1 (frame 40/188) /content/people.mp4: 384x640 7 persons, 2858.1ms\n",
            "video 1/1 (frame 41/188) /content/people.mp4: 384x640 7 persons, 3070.6ms\n",
            "video 1/1 (frame 42/188) /content/people.mp4: 384x640 7 persons, 2388.1ms\n",
            "video 1/1 (frame 43/188) /content/people.mp4: 384x640 7 persons, 2356.2ms\n",
            "video 1/1 (frame 44/188) /content/people.mp4: 384x640 7 persons, 2379.0ms\n",
            "video 1/1 (frame 45/188) /content/people.mp4: 384x640 7 persons, 2984.3ms\n",
            "video 1/1 (frame 46/188) /content/people.mp4: 384x640 7 persons, 2941.8ms\n",
            "video 1/1 (frame 47/188) /content/people.mp4: 384x640 7 persons, 2382.8ms\n",
            "video 1/1 (frame 48/188) /content/people.mp4: 384x640 7 persons, 2389.5ms\n",
            "video 1/1 (frame 49/188) /content/people.mp4: 384x640 7 persons, 2366.2ms\n",
            "video 1/1 (frame 50/188) /content/people.mp4: 384x640 7 persons, 3120.4ms\n",
            "video 1/1 (frame 51/188) /content/people.mp4: 384x640 7 persons, 2779.7ms\n",
            "video 1/1 (frame 52/188) /content/people.mp4: 384x640 7 persons, 2380.9ms\n",
            "video 1/1 (frame 53/188) /content/people.mp4: 384x640 7 persons, 2377.2ms\n",
            "video 1/1 (frame 54/188) /content/people.mp4: 384x640 7 persons, 2366.6ms\n",
            "video 1/1 (frame 55/188) /content/people.mp4: 384x640 7 persons, 3283.7ms\n",
            "video 1/1 (frame 56/188) /content/people.mp4: 384x640 7 persons, 2660.3ms\n",
            "video 1/1 (frame 57/188) /content/people.mp4: 384x640 8 persons, 2408.1ms\n",
            "video 1/1 (frame 58/188) /content/people.mp4: 384x640 9 persons, 2379.5ms\n",
            "video 1/1 (frame 59/188) /content/people.mp4: 384x640 11 persons, 2360.1ms\n",
            "video 1/1 (frame 60/188) /content/people.mp4: 384x640 12 persons, 3476.6ms\n",
            "video 1/1 (frame 61/188) /content/people.mp4: 384x640 10 persons, 2431.3ms\n",
            "video 1/1 (frame 62/188) /content/people.mp4: 384x640 11 persons, 2367.5ms\n",
            "video 1/1 (frame 63/188) /content/people.mp4: 384x640 11 persons, 2381.9ms\n",
            "video 1/1 (frame 64/188) /content/people.mp4: 384x640 9 persons, 2390.3ms\n",
            "video 1/1 (frame 65/188) /content/people.mp4: 384x640 9 persons, 3583.0ms\n",
            "video 1/1 (frame 66/188) /content/people.mp4: 384x640 9 persons, 2370.6ms\n",
            "video 1/1 (frame 67/188) /content/people.mp4: 384x640 8 persons, 2354.8ms\n",
            "video 1/1 (frame 68/188) /content/people.mp4: 384x640 9 persons, 2403.3ms\n",
            "video 1/1 (frame 69/188) /content/people.mp4: 384x640 9 persons, 2376.8ms\n",
            "video 1/1 (frame 70/188) /content/people.mp4: 384x640 9 persons, 3564.0ms\n",
            "video 1/1 (frame 71/188) /content/people.mp4: 384x640 9 persons, 2362.7ms\n",
            "video 1/1 (frame 72/188) /content/people.mp4: 384x640 8 persons, 2355.5ms\n",
            "video 1/1 (frame 73/188) /content/people.mp4: 384x640 8 persons, 2391.0ms\n",
            "video 1/1 (frame 74/188) /content/people.mp4: 384x640 7 persons, 2462.5ms\n",
            "video 1/1 (frame 75/188) /content/people.mp4: 384x640 7 persons, 3421.7ms\n",
            "video 1/1 (frame 76/188) /content/people.mp4: 384x640 8 persons, 2365.5ms\n",
            "video 1/1 (frame 77/188) /content/people.mp4: 384x640 8 persons, 2407.2ms\n",
            "video 1/1 (frame 78/188) /content/people.mp4: 384x640 8 persons, 2401.7ms\n",
            "video 1/1 (frame 79/188) /content/people.mp4: 384x640 8 persons, 2692.9ms\n",
            "video 1/1 (frame 80/188) /content/people.mp4: 384x640 8 persons, 3260.8ms\n",
            "video 1/1 (frame 81/188) /content/people.mp4: 384x640 8 persons, 2386.8ms\n",
            "video 1/1 (frame 82/188) /content/people.mp4: 384x640 8 persons, 2379.2ms\n",
            "video 1/1 (frame 83/188) /content/people.mp4: 384x640 8 persons, 2413.6ms\n",
            "video 1/1 (frame 84/188) /content/people.mp4: 384x640 8 persons, 2875.1ms\n",
            "video 1/1 (frame 85/188) /content/people.mp4: 384x640 9 persons, 3002.1ms\n",
            "video 1/1 (frame 86/188) /content/people.mp4: 384x640 9 persons, 2378.7ms\n",
            "video 1/1 (frame 87/188) /content/people.mp4: 384x640 8 persons, 2366.8ms\n",
            "video 1/1 (frame 88/188) /content/people.mp4: 384x640 8 persons, 2387.4ms\n",
            "video 1/1 (frame 89/188) /content/people.mp4: 384x640 8 persons, 3006.1ms\n",
            "video 1/1 (frame 90/188) /content/people.mp4: 384x640 8 persons, 2849.0ms\n",
            "video 1/1 (frame 91/188) /content/people.mp4: 384x640 8 persons, 2400.6ms\n",
            "video 1/1 (frame 92/188) /content/people.mp4: 384x640 8 persons, 2373.2ms\n",
            "video 1/1 (frame 93/188) /content/people.mp4: 384x640 9 persons, 2359.8ms\n",
            "video 1/1 (frame 94/188) /content/people.mp4: 384x640 11 persons, 3211.3ms\n",
            "video 1/1 (frame 95/188) /content/people.mp4: 384x640 10 persons, 2678.9ms\n",
            "video 1/1 (frame 96/188) /content/people.mp4: 384x640 9 persons, 2405.2ms\n",
            "video 1/1 (frame 97/188) /content/people.mp4: 384x640 9 persons, 2367.4ms\n",
            "video 1/1 (frame 98/188) /content/people.mp4: 384x640 9 persons, 2389.2ms\n",
            "video 1/1 (frame 99/188) /content/people.mp4: 384x640 10 persons, 3428.9ms\n",
            "video 1/1 (frame 100/188) /content/people.mp4: 384x640 9 persons, 2516.3ms\n",
            "video 1/1 (frame 101/188) /content/people.mp4: 384x640 8 persons, 2417.6ms\n",
            "video 1/1 (frame 102/188) /content/people.mp4: 384x640 9 persons, 2379.2ms\n",
            "video 1/1 (frame 103/188) /content/people.mp4: 384x640 7 persons, 2361.8ms\n",
            "video 1/1 (frame 104/188) /content/people.mp4: 384x640 7 persons, 3571.2ms\n",
            "video 1/1 (frame 105/188) /content/people.mp4: 384x640 7 persons, 2364.6ms\n",
            "video 1/1 (frame 106/188) /content/people.mp4: 384x640 7 persons, 2377.3ms\n",
            "video 1/1 (frame 107/188) /content/people.mp4: 384x640 7 persons, 2370.8ms\n",
            "video 1/1 (frame 108/188) /content/people.mp4: 384x640 6 persons, 2360.2ms\n",
            "video 1/1 (frame 109/188) /content/people.mp4: 384x640 6 persons, 3575.8ms\n",
            "video 1/1 (frame 110/188) /content/people.mp4: 384x640 5 persons, 2406.0ms\n",
            "video 1/1 (frame 111/188) /content/people.mp4: 384x640 5 persons, 2351.8ms\n",
            "video 1/1 (frame 112/188) /content/people.mp4: 384x640 5 persons, 2377.7ms\n",
            "video 1/1 (frame 113/188) /content/people.mp4: 384x640 5 persons, 2458.7ms\n",
            "video 1/1 (frame 114/188) /content/people.mp4: 384x640 5 persons, 3448.9ms\n",
            "video 1/1 (frame 115/188) /content/people.mp4: 384x640 6 persons, 2373.2ms\n",
            "video 1/1 (frame 116/188) /content/people.mp4: 384x640 6 persons, 2364.9ms\n",
            "video 1/1 (frame 117/188) /content/people.mp4: 384x640 6 persons, 2389.6ms\n",
            "video 1/1 (frame 118/188) /content/people.mp4: 384x640 5 persons, 2531.5ms\n",
            "video 1/1 (frame 119/188) /content/people.mp4: 384x640 5 persons, 3327.6ms\n",
            "video 1/1 (frame 120/188) /content/people.mp4: 384x640 4 persons, 2380.1ms\n",
            "video 1/1 (frame 121/188) /content/people.mp4: 384x640 4 persons, 2385.5ms\n",
            "video 1/1 (frame 122/188) /content/people.mp4: 384x640 4 persons, 2411.0ms\n",
            "video 1/1 (frame 123/188) /content/people.mp4: 384x640 4 persons, 2676.6ms\n",
            "video 1/1 (frame 124/188) /content/people.mp4: 384x640 4 persons, 3250.9ms\n",
            "video 1/1 (frame 125/188) /content/people.mp4: 384x640 4 persons, 2417.0ms\n",
            "video 1/1 (frame 126/188) /content/people.mp4: 384x640 4 persons, 2389.4ms\n",
            "video 1/1 (frame 127/188) /content/people.mp4: 384x640 5 persons, 2391.0ms\n",
            "video 1/1 (frame 128/188) /content/people.mp4: 384x640 5 persons, 2793.7ms\n",
            "video 1/1 (frame 129/188) /content/people.mp4: 384x640 5 persons, 3104.3ms\n",
            "video 1/1 (frame 130/188) /content/people.mp4: 384x640 5 persons, 2396.1ms\n",
            "video 1/1 (frame 131/188) /content/people.mp4: 384x640 4 persons, 2375.6ms\n",
            "video 1/1 (frame 132/188) /content/people.mp4: 384x640 4 persons, 2371.1ms\n",
            "video 1/1 (frame 133/188) /content/people.mp4: 384x640 4 persons, 2973.4ms\n",
            "video 1/1 (frame 134/188) /content/people.mp4: 384x640 4 persons, 2963.0ms\n",
            "video 1/1 (frame 135/188) /content/people.mp4: 384x640 4 persons, 2415.3ms\n",
            "video 1/1 (frame 136/188) /content/people.mp4: 384x640 5 persons, 2383.6ms\n",
            "video 1/1 (frame 137/188) /content/people.mp4: 384x640 5 persons, 2387.6ms\n",
            "video 1/1 (frame 138/188) /content/people.mp4: 384x640 5 persons, 3124.5ms\n",
            "video 1/1 (frame 139/188) /content/people.mp4: 384x640 5 persons, 2764.7ms\n",
            "video 1/1 (frame 140/188) /content/people.mp4: 384x640 5 persons, 2376.8ms\n",
            "video 1/1 (frame 141/188) /content/people.mp4: 384x640 5 persons, 2416.1ms\n",
            "video 1/1 (frame 142/188) /content/people.mp4: 384x640 6 persons, 2364.4ms\n",
            "video 1/1 (frame 143/188) /content/people.mp4: 384x640 6 persons, 3246.0ms\n",
            "video 1/1 (frame 144/188) /content/people.mp4: 384x640 6 persons, 2696.1ms\n",
            "video 1/1 (frame 145/188) /content/people.mp4: 384x640 7 persons, 2393.0ms\n",
            "video 1/1 (frame 146/188) /content/people.mp4: 384x640 5 persons, 2443.3ms\n",
            "video 1/1 (frame 147/188) /content/people.mp4: 384x640 5 persons, 2381.1ms\n",
            "video 1/1 (frame 148/188) /content/people.mp4: 384x640 5 persons, 3468.5ms\n",
            "video 1/1 (frame 149/188) /content/people.mp4: 384x640 5 persons, 2479.7ms\n",
            "video 1/1 (frame 150/188) /content/people.mp4: 384x640 6 persons, 2355.5ms\n",
            "video 1/1 (frame 151/188) /content/people.mp4: 384x640 6 persons, 2420.7ms\n",
            "video 1/1 (frame 152/188) /content/people.mp4: 384x640 6 persons, 2377.5ms\n",
            "video 1/1 (frame 153/188) /content/people.mp4: 384x640 5 persons, 3606.5ms\n",
            "video 1/1 (frame 154/188) /content/people.mp4: 384x640 6 persons, 2368.9ms\n",
            "video 1/1 (frame 155/188) /content/people.mp4: 384x640 7 persons, 2369.7ms\n",
            "video 1/1 (frame 156/188) /content/people.mp4: 384x640 7 persons, 2382.0ms\n",
            "video 1/1 (frame 157/188) /content/people.mp4: 384x640 6 persons, 2416.8ms\n",
            "video 1/1 (frame 158/188) /content/people.mp4: 384x640 5 persons, 3600.1ms\n",
            "video 1/1 (frame 159/188) /content/people.mp4: 384x640 7 persons, 2369.7ms\n",
            "video 1/1 (frame 160/188) /content/people.mp4: 384x640 7 persons, 2370.8ms\n",
            "video 1/1 (frame 161/188) /content/people.mp4: 384x640 6 persons, 2387.5ms\n",
            "video 1/1 (frame 162/188) /content/people.mp4: 384x640 7 persons, 2503.0ms\n",
            "video 1/1 (frame 163/188) /content/people.mp4: 384x640 6 persons, 3403.5ms\n",
            "video 1/1 (frame 164/188) /content/people.mp4: 384x640 6 persons, 2379.1ms\n",
            "video 1/1 (frame 165/188) /content/people.mp4: 384x640 7 persons, 2375.9ms\n",
            "video 1/1 (frame 166/188) /content/people.mp4: 384x640 8 persons, 2377.4ms\n",
            "video 1/1 (frame 167/188) /content/people.mp4: 384x640 8 persons, 2627.2ms\n",
            "video 1/1 (frame 168/188) /content/people.mp4: 384x640 8 persons, 3323.6ms\n",
            "video 1/1 (frame 169/188) /content/people.mp4: 384x640 9 persons, 2391.9ms\n",
            "video 1/1 (frame 170/188) /content/people.mp4: 384x640 10 persons, 2363.9ms\n",
            "video 1/1 (frame 171/188) /content/people.mp4: 384x640 10 persons, 2387.5ms\n",
            "video 1/1 (frame 172/188) /content/people.mp4: 384x640 10 persons, 2902.1ms\n",
            "video 1/1 (frame 173/188) /content/people.mp4: 384x640 10 persons, 3029.0ms\n",
            "video 1/1 (frame 174/188) /content/people.mp4: 384x640 12 persons, 2385.1ms\n",
            "video 1/1 (frame 175/188) /content/people.mp4: 384x640 12 persons, 2385.6ms\n",
            "video 1/1 (frame 176/188) /content/people.mp4: 384x640 12 persons, 2387.0ms\n",
            "video 1/1 (frame 177/188) /content/people.mp4: 384x640 12 persons, 3148.5ms\n",
            "video 1/1 (frame 178/188) /content/people.mp4: 384x640 12 persons, 2801.7ms\n",
            "video 1/1 (frame 179/188) /content/people.mp4: 384x640 11 persons, 2406.4ms\n",
            "video 1/1 (frame 180/188) /content/people.mp4: 384x640 11 persons, 2384.2ms\n",
            "video 1/1 (frame 181/188) /content/people.mp4: 384x640 11 persons, 2415.2ms\n",
            "video 1/1 (frame 182/188) /content/people.mp4: 384x640 11 persons, 3375.8ms\n",
            "video 1/1 (frame 183/188) /content/people.mp4: 384x640 11 persons, 2564.7ms\n",
            "video 1/1 (frame 184/188) /content/people.mp4: 384x640 11 persons, 2385.1ms\n",
            "video 1/1 (frame 185/188) /content/people.mp4: 384x640 11 persons, 2406.6ms\n",
            "video 1/1 (frame 186/188) /content/people.mp4: 384x640 11 persons, 2395.5ms\n",
            "video 1/1 (frame 187/188) /content/people.mp4: 384x640 12 persons, 3580.5ms\n",
            "video 1/1 (frame 188/188) /content/people.mp4: 384x640 12 persons, 2423.8ms\n",
            "Speed: 4.8ms preprocess, 2637.8ms inference, 1.8ms postprocess per image at shape (1, 3, 384, 640)\n",
            "Results saved to \u001b[1mruns/pose/predict\u001b[0m\n"
          ]
        }
      ]
    }
  ],
  "metadata": {
    "colab": {
      "name": "Welcome To Colab",
      "provenance": []
    },
    "kernelspec": {
      "display_name": "Python 3",
      "name": "python3"
    }
  },
  "nbformat": 4,
  "nbformat_minor": 0
}